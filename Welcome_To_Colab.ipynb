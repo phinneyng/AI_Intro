{
  "cells": [
    {
      "cell_type": "markdown",
      "metadata": {
        "id": "view-in-github",
        "colab_type": "text"
      },
      "source": [
        "<a href=\"https://colab.research.google.com/github/phinneyng/AI_Intro/blob/main/Welcome_To_Colab.ipynb\" target=\"_parent\"><img src=\"https://colab.research.google.com/assets/colab-badge.svg\" alt=\"Open In Colab\"/></a>"
      ]
    },
    {
      "cell_type": "code",
      "source": [
        "import pandas as pd\n",
        "from sklearn.model_selection import train_test_split\n",
        "from sklearn.linear_model import LogisticRegression\n",
        "from sklearn.svm import SVC\n",
        "from sklearn.neighbors import KNeighborsClassifier\n",
        "from sklearn.neural_network import MLPClassifier\n",
        "from sklearn.metrics import accuracy_score\n",
        "\n",
        "# Load the dataset\n",
        "df = pd.read_csv(\"/content/ReviewData.csv\")\n",
        "\n",
        "# Convert Sentiment to numeric values\n",
        "df['Sentiment'] = df['Sentiment'].map({'positive': 1, 'negative': -1})\n",
        "\n",
        "# Define independent variables (X) and dependent variable (y)\n",
        "X = df[['Rating', 'Length', 'Sentiment', 'Votes']]\n",
        "y = df['SalesUp']\n",
        "\n",
        "# Split data into training and testing sets\n",
        "X_train, X_test, y_train, y_test = train_test_split(X, y, test_size=0.2, random_state=42)\n",
        "\n",
        "# Train logistic regression model\n",
        "logistic_model = LogisticRegression()\n",
        "logistic_model.fit(X_train, y_train)\n",
        "\n",
        "# Train Support Vector Machine model\n",
        "svm_model = SVC()\n",
        "svm_model.fit(X_train, y_train)\n",
        "\n",
        "# Train Nearest Neighbor (K=5) model\n",
        "knn_model = KNeighborsClassifier(n_neighbors=5)\n",
        "knn_model.fit(X_train, y_train)\n",
        "\n",
        "# Train Neural Network model\n",
        "nn_model = MLPClassifier(hidden_layer_sizes=(10,), max_iter=1000, random_state=42)\n",
        "nn_model.fit(X_train, y_train)\n",
        "\n",
        "# Predict on test data and calculate accuracy\n",
        "models = {'Logistic Regression': logistic_model, 'SVM': svm_model, 'KNN': knn_model, 'Neural Network': nn_model}\n",
        "for name, model in models.items():\n",
        "    y_pred = model.predict(X_test)\n",
        "    accuracy = accuracy_score(y_test, y_pred)\n",
        "    print(f\"{name} Model Accuracy: {accuracy:.2f}\")\n",
        "\n",
        "# Predict SalesUp for a new observation\n",
        "new_observation = pd.DataFrame([[5, 200, -1, 5]], columns=['Rating', 'Length', 'Sentiment', 'Votes'])\n",
        "for name, model in models.items():\n",
        "    predicted_salesup = model.predict(new_observation)[0]\n",
        "    print(f\"{name} Predicted SalesUp for the new observation: {predicted_salesup}\")\n",
        "\n",
        "\n"
      ],
      "metadata": {
        "id": "lBLd6wFA9yYL",
        "outputId": "f92bf165-7e3e-4e20-ff20-62f8ce5c7a76",
        "colab": {
          "base_uri": "https://localhost:8080/"
        }
      },
      "execution_count": 16,
      "outputs": [
        {
          "output_type": "stream",
          "name": "stdout",
          "text": [
            "Logistic Regression Model Accuracy: 0.80\n",
            "SVM Model Accuracy: 0.75\n",
            "KNN Model Accuracy: 0.60\n",
            "Neural Network Model Accuracy: 0.70\n",
            "Logistic Regression Predicted SalesUp for the new observation: 1\n",
            "SVM Predicted SalesUp for the new observation: 0\n",
            "KNN Predicted SalesUp for the new observation: 0\n",
            "Neural Network Predicted SalesUp for the new observation: 0\n"
          ]
        }
      ]
    }
  ],
  "metadata": {
    "colab": {
      "name": "Welcome To Colab",
      "provenance": [],
      "include_colab_link": true
    },
    "kernelspec": {
      "display_name": "Python 3",
      "name": "python3"
    }
  },
  "nbformat": 4,
  "nbformat_minor": 0
}